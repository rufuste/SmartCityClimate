{
 "cells": [
  {
   "cell_type": "code",
   "execution_count": 1,
   "id": "28e51218",
   "metadata": {},
   "outputs": [],
   "source": [
    "\n",
    "import requests\n",
    "from IPython.display import GeoJSON\n",
    "import pandas as pd\n",
    "import io\n",
    "\n"
   ]
  },
  {
   "cell_type": "code",
   "execution_count": 2,
   "id": "935057a4",
   "metadata": {},
   "outputs": [
    {
     "data": {
      "text/html": [
       "<div>\n",
       "<style scoped>\n",
       "    .dataframe tbody tr th:only-of-type {\n",
       "        vertical-align: middle;\n",
       "    }\n",
       "\n",
       "    .dataframe tbody tr th {\n",
       "        vertical-align: top;\n",
       "    }\n",
       "\n",
       "    .dataframe thead th {\n",
       "        text-align: right;\n",
       "    }\n",
       "</style>\n",
       "<table border=\"1\" class=\"dataframe\">\n",
       "  <thead>\n",
       "    <tr style=\"text-align: right;\">\n",
       "      <th></th>\n",
       "      <th>Sensor Name</th>\n",
       "      <th>Location (WKT)</th>\n",
       "      <th>Ground Height Above Sea Level</th>\n",
       "      <th>Sensor Height Above Ground</th>\n",
       "      <th>Broker Name</th>\n",
       "      <th>Third Party</th>\n",
       "      <th>Sensor Centroid Longitude</th>\n",
       "      <th>Sensor Centroid Latitude</th>\n",
       "      <th>Raw ID</th>\n",
       "    </tr>\n",
       "  </thead>\n",
       "  <tbody>\n",
       "  </tbody>\n",
       "</table>\n",
       "</div>"
      ],
      "text/plain": [
       "Empty DataFrame\n",
       "Columns: [Sensor Name, Location (WKT), Ground Height Above Sea Level, Sensor Height Above Ground, Broker Name, Third Party, Sensor Centroid Longitude, Sensor Centroid Latitude, Raw ID]\n",
       "Index: []"
      ]
     },
     "execution_count": 2,
     "metadata": {},
     "output_type": "execute_result"
    }
   ],
   "source": [
    "sensor_params = dict(\n",
    "    sensor_type='PM2.5',\n",
    "subset_layer='Post code Districts',\n",
    "subset_shapes='NE1',\n",
    ")\n",
    "\n",
    "r = requests.get('http://uoweb3.ncl.ac.uk/api/v1.1/sensors/csv/',sensor_params)\n",
    "\n",
    "sensor_info = pd.read_csv(io.StringIO(r.text), encoding=\"ISO-8859-1\")\n",
    "sensor_info"
   ]
  },
  {
   "cell_type": "code",
   "execution_count": 3,
   "id": "28dfc699",
   "metadata": {},
   "outputs": [
    {
     "data": {
      "text/plain": [
       "{'data_variable': 'PM2.5',\n",
       " 'agg_method': 'median',\n",
       " 'agg_period': '15mins',\n",
       " 'starttime': '20230226180000',\n",
       " 'endtime': '20230305180000',\n",
       " 'sensor_type': 'PM2.5',\n",
       " 'subset_layer': 'Post code Districts',\n",
       " 'subset_shapes': 'NE1'}"
      ]
     },
     "execution_count": 3,
     "metadata": {},
     "output_type": "execute_result"
    }
   ],
   "source": [
    "from datetime import datetime, timedelta\n",
    "\n",
    "api_date_string_format = \"%Y%m%d%H%M%S\"\n",
    "\n",
    "current_time = datetime.now()\n",
    "\n",
    "start_time = current_time - timedelta(days=7)\n",
    "\n",
    "start_time = datetime(start_time.year, start_time.month, start_time.day, start_time.hour)\n",
    "end_time = datetime(current_time.year, current_time.month, current_time.day, current_time.hour)\n",
    "\n",
    "data_params = dict(\n",
    "    data_variable='PM2.5',\n",
    "    agg_method='median',\n",
    "    agg_period='15mins',\n",
    "    starttime=start_time.strftime(api_date_string_format),\n",
    "    endtime=end_time.strftime(api_date_string_format) \n",
    ")\n",
    "\n",
    "data_params.update(sensor_params)\n",
    "data_params"
   ]
  },
  {
   "cell_type": "code",
   "execution_count": 14,
   "id": "6e775c14",
   "metadata": {},
   "outputs": [
    {
     "data": {
      "text/plain": [
       "['<!doctype html>\\n',\n",
       " '<title>Site Maintenance</title>\\n',\n",
       " '<style>\\n',\n",
       " '  body { text-align: center; padding: 150px; }\\n',\n",
       " '  h1 { font-size: 50px; }\\n',\n",
       " '  body { font: 20px Helvetica, sans-serif; color: #333; }\\n',\n",
       " '  article { display: block; text-align: left; width: 650px; margin: 0 auto; }\\n',\n",
       " '  a { color: #dc8100; text-decoration: none; }\\n',\n",
       " '  a:hover { color: #333; text-decoration: none; }\\n',\n",
       " '</style>\\n',\n",
       " '\\n',\n",
       " '<article>\\n',\n",
       " '    <h1>We&rsquo;ll be back soon!</h1>\\n',\n",
       " '    <div>\\n',\n",
       " '        <p>Sorry for the inconvenience but we&rsquo;re performing some maintenance at the moment. If you need to you can always <a href=\"mailto:#urbanobservatory@ncl.ac.uk\">contact us</a>, otherwise we&rsquo;ll be back online shortly!</p>\\n',\n",
       " '        <p>&mdash; The UO Team</p>\\n',\n",
       " '    </div>\\n',\n",
       " '  </br>\\n',\n",
       " '    <img src=\"logo.svg\" alt=\"Logo\">\\n',\n",
       " '</article>']"
      ]
     },
     "execution_count": 14,
     "metadata": {},
     "output_type": "execute_result"
    }
   ],
   "source": [
    "r = requests.get('http://uoweb3.ncl.ac.uk/api/v1.1/sensors/data/agg/csv/',data_params)\n",
    "#data = pd.read_csv(io.StringIO(r.text), encoding_errors='ignore', sep=\";\")\n",
    "#print(bonfire_data.head(10))\n",
    "output = io.StringIO(r.text)\n",
    "output.readlines()\n",
    "#data.head(10)"
   ]
  },
  {
   "cell_type": "code",
   "execution_count": 12,
   "id": "19d5891c",
   "metadata": {},
   "outputs": [
    {
     "ename": "NameError",
     "evalue": "name 'data' is not defined",
     "output_type": "error",
     "traceback": [
      "\u001b[1;31m---------------------------------------------------------------------------\u001b[0m",
      "\u001b[1;31mNameError\u001b[0m                                 Traceback (most recent call last)",
      "Cell \u001b[1;32mIn[12], line 6\u001b[0m\n\u001b[0;32m      3\u001b[0m \u001b[38;5;28;01mimport\u001b[39;00m \u001b[38;5;21;01mmatplotlib\u001b[39;00m\u001b[38;5;21;01m.\u001b[39;00m\u001b[38;5;21;01mpyplot\u001b[39;00m \u001b[38;5;28;01mas\u001b[39;00m \u001b[38;5;21;01mplt\u001b[39;00m\n\u001b[0;32m      5\u001b[0m fig, ax \u001b[38;5;241m=\u001b[39m plt\u001b[38;5;241m.\u001b[39msubplots(figsize\u001b[38;5;241m=\u001b[39m(\u001b[38;5;241m30\u001b[39m,\u001b[38;5;241m10\u001b[39m))\n\u001b[1;32m----> 6\u001b[0m \u001b[38;5;28;01mfor\u001b[39;00m sensor_name,sensor_data \u001b[38;5;129;01min\u001b[39;00m  \u001b[43mdata\u001b[49m\u001b[38;5;241m.\u001b[39mgroupby(\u001b[38;5;124m'\u001b[39m\u001b[38;5;124mSensor Name\u001b[39m\u001b[38;5;124m'\u001b[39m):\n\u001b[0;32m      8\u001b[0m     datetimes \u001b[38;5;241m=\u001b[39m pd\u001b[38;5;241m.\u001b[39mto_datetime(sensor_data[\u001b[38;5;124m'\u001b[39m\u001b[38;5;124mTimestamp\u001b[39m\u001b[38;5;124m'\u001b[39m])\n\u001b[0;32m      9\u001b[0m     plt\u001b[38;5;241m.\u001b[39mplot(datetimes,sensor_data[\u001b[38;5;124m'\u001b[39m\u001b[38;5;124mValue\u001b[39m\u001b[38;5;124m'\u001b[39m],label\u001b[38;5;241m=\u001b[39msensor_name)\n",
      "\u001b[1;31mNameError\u001b[0m: name 'data' is not defined"
     ]
    },
    {
     "data": {
      "image/png": "[encoded data removed]",
      "text/plain": [
       "<Figure size 3000x1000 with 1 Axes>"
      ]
     },
     "metadata": {},
     "output_type": "display_data"
    }
   ],
   "source": [
    "%matplotlib inline\n",
    "import matplotlib.pyplot as plt\n",
    "\n",
    "fig, ax = plt.subplots(figsize=(30,10))\n",
    "for sensor_name,sensor_data in  data.groupby('Sensor Name'):\n",
    "    \n",
    "    datetimes = pd.to_datetime(sensor_data['Timestamp'])\n",
    "    plt.plot(datetimes,sensor_data['Value'],label=sensor_name)\n",
    "\n",
    "plt.legend()\n"
   ]
  },
  {
   "cell_type": "code",
   "execution_count": 24,
   "id": "1baf9a48",
   "metadata": {},
   "outputs": [
    {
     "data": {
      "application/javascript": [
       "// Copyright 2022 Observable, Inc.\n",
       "// Released under the ISC license.\n",
       "// https://observablehq.com/@d3/spike-map\n",
       "function SpikeMap(data, {\n",
       "    position = d => d, // given d in data, returns the [longitude, latitude]\n",
       "    value = () => undefined, // given d in data, returns the quantitative value\n",
       "    title, // given a datum d, returns the hover text\n",
       "    scale = d3.scaleLinear, // type of length scale\n",
       "    domain, // [0, max] values; input of length scale; must start at zero\n",
       "    maxLength = 200, // maximum length of spikes\n",
       "    width = 640, // outer width, in pixels\n",
       "    height, // outer height, in pixels\n",
       "    projection, // a D3 projection; null for pre-projected geometry\n",
       "    features, // a GeoJSON feature collection for the background\n",
       "    borders, // a GeoJSON object for stroking borders\n",
       "    spike = (length, width = 7) => `M${-width / 2},0L0,${-length}L${width / 2},0`,\n",
       "    outline = projection && projection.rotate ? {type: \"Sphere\"} : null, // a GeoJSON object for the background\n",
       "    backgroundFill = \"#e0e0e0\", // fill color for background\n",
       "    backgroundStroke = \"white\", // stroke color for borders\n",
       "    backgroundStrokeWidth, // stroke width for borders\n",
       "    backgroundStrokeOpacity, // stroke width for borders\n",
       "    backgroundStrokeLinecap = \"round\", // stroke line cap for borders\n",
       "    backgroundStrokeLinejoin = \"round\", // stroke line join for borders\n",
       "    fill = \"red\", // fill color for spikes\n",
       "    fillOpacity = 0.3, // fill opacity for spikes\n",
       "    stroke = \"red\", // stroke color for spikes\n",
       "    strokeWidth, // stroke width for spikes\n",
       "    strokeOpacity, // stroke opacity for spikes\n",
       "    legendX = width - 20,\n",
       "    legendY = height - 20,\n",
       "  } = {}) {\n",
       "    // Compute values.\n",
       "    const I = d3.map(data, (_, i) => i);\n",
       "    const V = d3.map(data, value).map(d => d == null ? NaN : +d);\n",
       "    const P = d3.map(data, position);\n",
       "    const T = title == null ? null : d3.map(data, title);\n",
       "  \n",
       "    // Compute default domains.\n",
       "    if (domain === undefined) domain = [0, d3.max(V)];\n",
       "  \n",
       "    // Construct scales.\n",
       "    const length = scale(domain, [0, maxLength]);\n",
       "  \n",
       "    // Compute the default height. If an outline object is specified, scale the projection to fit\n",
       "    // the width, and then compute the corresponding height.\n",
       "    if (height === undefined) {\n",
       "      if (outline === undefined) {\n",
       "        height = 400;\n",
       "      } else {\n",
       "        const [[x0, y0], [x1, y1]] = d3.geoPath(projection.fitWidth(width, outline)).bounds(outline);\n",
       "        const dy = Math.ceil(y1 - y0), l = Math.min(Math.ceil(x1 - x0), dy);\n",
       "        projection.scale(projection.scale() * (l - 1) / l).precision(0.2);\n",
       "        height = dy;\n",
       "      }\n",
       "    }\n",
       "  \n",
       "    // Construct a path generator.\n",
       "    const path = d3.geoPath(projection);\n",
       "  \n",
       "    const svg = d3.create(\"svg\")\n",
       "        .attr(\"width\", width)\n",
       "        .attr(\"height\", height)\n",
       "        .attr(\"viewBox\", [0, 0, width, height])\n",
       "        .attr(\"style\", \"width: 100%; height: auto; height: intrinsic;\");\n",
       "  \n",
       "    if (outline != null) svg.append(\"path\")\n",
       "        .attr(\"fill\", \"white\")\n",
       "        .attr(\"stroke\", \"currentColor\")\n",
       "        .attr(\"d\", path(outline));\n",
       "  \n",
       "    svg.append(\"path\")\n",
       "        .datum(features)\n",
       "        .attr(\"fill\", backgroundFill)\n",
       "        .attr(\"d\", path);\n",
       "  \n",
       "    if (borders != null) svg.append(\"path\")\n",
       "        .attr(\"pointer-events\", \"none\")\n",
       "        .attr(\"fill\", \"none\")\n",
       "        .attr(\"stroke\", backgroundStroke)\n",
       "        .attr(\"stroke-linecap\", backgroundStrokeLinecap)\n",
       "        .attr(\"stroke-linejoin\", backgroundStrokeLinejoin)\n",
       "        .attr(\"stroke-width\", backgroundStrokeWidth)\n",
       "        .attr(\"stroke-opacity\", backgroundStrokeOpacity)\n",
       "        .attr(\"d\", path(borders));\n",
       "  \n",
       "    const legend = svg.append(\"g\")\n",
       "        .attr(\"fill\", \"#777\")\n",
       "        .attr(\"text-anchor\", \"middle\")\n",
       "        .attr(\"font-family\", \"sans-serif\")\n",
       "        .attr(\"font-size\", 10)\n",
       "      .selectAll(\"g\")\n",
       "        .data(length.ticks(4).slice(1).reverse())\n",
       "      .join(\"g\")\n",
       "        .attr(\"transform\", (d, i) => `translate(${legendX - i * 18},${legendY})`);\n",
       "  \n",
       "    legend.append(\"path\")\n",
       "        .attr(\"fill\", \"red\")\n",
       "        .attr(\"fill-opacity\", 0.3)\n",
       "        .attr(\"stroke\", \"red\")\n",
       "        .attr(\"d\", d => spike(length(d)));\n",
       "  \n",
       "    legend.append(\"text\")\n",
       "        .attr(\"dy\", \"1.3em\")\n",
       "        .text(length.tickFormat(4, \"s\"));\n",
       "  \n",
       "    svg.append(\"g\")\n",
       "        .attr(\"fill\", fill)\n",
       "        .attr(\"fill-opacity\", fillOpacity)\n",
       "        .attr(\"stroke\", stroke)\n",
       "        .attr(\"stroke-width\", strokeWidth)\n",
       "        .attr(\"stroke-opacity\", strokeOpacity)\n",
       "      .selectAll(\"path\")\n",
       "      .data(d3.range(data.length)\n",
       "          .filter(i => P[i])\n",
       "          .sort((i, j) => d3.ascending(P[i][1], P[j][1]) || d3.ascending(P[i][0], P[j][0])))\n",
       "      .join(\"path\")\n",
       "        .attr(\"transform\", projection == null\n",
       "            ? i => `translate(${P[i]})`\n",
       "            : i => `translate(${projection(P[i])})`)\n",
       "        .attr(\"d\", i => spike(length(V[i])))\n",
       "        .call(T ? path => path.append(\"title\").text(i => T[i]) : () => {});\n",
       "  \n",
       "    return svg.node();\n",
       "  }"
      ],
      "text/plain": [
       "<IPython.core.display.Javascript object>"
      ]
     },
     "execution_count": 24,
     "metadata": {},
     "output_type": "execute_result"
    }
   ],
   "source": [
    "\n",
    "from IPython.display import display, Javascript, HTML\n",
    "import json\n",
    "Javascript(filename='mapSpike.js')"
   ]
  },
  {
   "cell_type": "code",
   "execution_count": 22,
   "id": "62816c0f",
   "metadata": {},
   "outputs": [
    {
     "data": {
      "application/javascript": [
       "require.config({\n",
       "    paths: {\n",
       "        d3: 'https://d3js.org/d3.v5.min'\n",
       "    }\n",
       "});\n"
      ],
      "text/plain": [
       "<IPython.core.display.Javascript object>"
      ]
     },
     "metadata": {},
     "output_type": "display_data"
    }
   ],
   "source": [
    "%%javascript\n",
    "require.config({\n",
    "    paths: {\n",
    "        d3: 'https://d3js.org/d3.v5.min'\n",
    "    }\n",
    "});"
   ]
  },
  {
   "cell_type": "code",
   "execution_count": 35,
   "id": "069787d4",
   "metadata": {},
   "outputs": [
    {
     "ename": "TypeError",
     "evalue": "not all arguments converted during string formatting",
     "output_type": "error",
     "traceback": [
      "\u001b[1;31m---------------------------------------------------------------------------\u001b[0m",
      "\u001b[1;31mTypeError\u001b[0m                                 Traceback (most recent call last)",
      "Cell \u001b[1;32mIn[35], line 2\u001b[0m\n\u001b[0;32m      1\u001b[0m population \u001b[38;5;241m=\u001b[39m [\u001b[38;5;241m5\u001b[39m, \u001b[38;5;241m10\u001b[39m, \u001b[38;5;241m20\u001b[39m, \u001b[38;5;241m40\u001b[39m, \u001b[38;5;241m50\u001b[39m, \u001b[38;5;241m30\u001b[39m, \u001b[38;5;241m10\u001b[39m, \u001b[38;5;241m20\u001b[39m, \u001b[38;5;241m40\u001b[39m, \u001b[38;5;241m10\u001b[39m, \u001b[38;5;241m5\u001b[39m]\n\u001b[1;32m----> 2\u001b[0m Javascript(\u001b[38;5;124;43m\"\"\"\u001b[39;49m\n\u001b[0;32m      3\u001b[0m \u001b[38;5;124;43m(function(element)\u001b[39;49m\u001b[38;5;124;43m{\u001b[39;49m\n\u001b[0;32m      4\u001b[0m \u001b[38;5;124;43m    require([\u001b[39;49m\u001b[38;5;124;43m'\u001b[39;49m\u001b[38;5;124;43mmapSpike\u001b[39;49m\u001b[38;5;124;43m'\u001b[39;49m\u001b[38;5;124;43m], function(SpikeMap) \u001b[39;49m\u001b[38;5;124;43m{\u001b[39;49m\n\u001b[0;32m      5\u001b[0m \u001b[38;5;124;43m        chart = SpikeMap(population, \u001b[39;49m\u001b[38;5;124;43m{\u001b[39;49m\n\u001b[0;32m      6\u001b[0m \u001b[38;5;124;43m  value: ([population]) => +population,\u001b[39;49m\n\u001b[0;32m      7\u001b[0m \u001b[38;5;124;43m  position([, stateid, countyid]) \u001b[39;49m\u001b[38;5;124;43m{\u001b[39;49m\n\u001b[0;32m      8\u001b[0m \u001b[38;5;124;43m    const county = countymap.get(stateid + countyid);\u001b[39;49m\n\u001b[0;32m      9\u001b[0m \u001b[38;5;124;43m    return county && centroid(county);\u001b[39;49m\n\u001b[0;32m     10\u001b[0m \u001b[38;5;124;43m  },\u001b[39;49m\n\u001b[0;32m     11\u001b[0m \u001b[38;5;124;43m  title([population, stateid, countyid]) \u001b[39;49m\u001b[38;5;124;43m{\u001b[39;49m\n\u001b[0;32m     12\u001b[0m \u001b[38;5;124;43m    const state = statemap.get(stateid);\u001b[39;49m\n\u001b[0;32m     13\u001b[0m \u001b[38;5;124;43m    const county = countymap.get(stateid + countyid);\u001b[39;49m\n\u001b[0;32m     14\u001b[0m \u001b[38;5;124;43m    return `$\u001b[39;49m\u001b[38;5;124;43m{\u001b[39;49m\u001b[38;5;124;43mcounty?.properties.name}, $\u001b[39;49m\u001b[38;5;124;43m{\u001b[39;49m\u001b[38;5;124;43mstate?.properties.name}\u001b[39;49m\u001b[38;5;130;43;01m\\n\u001b[39;49;00m\u001b[38;5;124;43m$\u001b[39;49m\u001b[38;5;124;43m{\u001b[39;49m\u001b[38;5;124;43m(+population).toLocaleString(\u001b[39;49m\u001b[38;5;124;43m\"\u001b[39;49m\u001b[38;5;124;43men\u001b[39;49m\u001b[38;5;124;43m\"\u001b[39;49m\u001b[38;5;124;43m)}`;\u001b[39;49m\n\u001b[0;32m     15\u001b[0m \u001b[38;5;124;43m  },\u001b[39;49m\n\u001b[0;32m     16\u001b[0m \u001b[38;5;124;43m  features: nation,\u001b[39;49m\n\u001b[0;32m     17\u001b[0m \u001b[38;5;124;43m  borders: statemesh,\u001b[39;49m\n\u001b[0;32m     18\u001b[0m \u001b[38;5;124;43m  width: 975,\u001b[39;49m\n\u001b[0;32m     19\u001b[0m \u001b[38;5;124;43m  height: 610\u001b[39;49m\n\u001b[0;32m     20\u001b[0m \u001b[38;5;124;43m})\u001b[39;49m\n\u001b[0;32m     21\u001b[0m \u001b[38;5;124;43m    });\u001b[39;49m\n\u001b[0;32m     22\u001b[0m \u001b[38;5;124;43m})(element);\u001b[39;49m\n\u001b[0;32m     23\u001b[0m \u001b[38;5;124;43m\"\"\"\u001b[39;49m\u001b[43m \u001b[49m\u001b[38;5;241;43m%\u001b[39;49m\u001b[43m \u001b[49m\u001b[43mjson\u001b[49m\u001b[38;5;241;43m.\u001b[39;49m\u001b[43mdumps\u001b[49m\u001b[43m(\u001b[49m\u001b[43mpopulation\u001b[49m\u001b[43m)\u001b[49m)\n",
      "\u001b[1;31mTypeError\u001b[0m: not all arguments converted during string formatting"
     ]
    }
   ],
   "source": [
    "population = [5, 10, 20, 40, 50, 30, 10, 20, 40, 10, 5]\n",
    "Javascript(\"\"\"\n",
    "(function(element){\n",
    "    require(['mapSpike'], function(SpikeMap) {\n",
    "        chart = SpikeMap(population, {\n",
    "  value: ([population]) => +population,\n",
    "  position([, stateid, countyid]) {\n",
    "    const county = countymap.get(stateid + countyid);\n",
    "    return county && centroid(county);\n",
    "  },\n",
    "  title([population, stateid, countyid]) {\n",
    "    const state = statemap.get(stateid);\n",
    "    const county = countymap.get(stateid + countyid);\n",
    "    return `${county?.properties.name}, ${state?.properties.name}\\n${(+population).toLocaleString(\"en\")}`;\n",
    "  },\n",
    "  features: nation,\n",
    "  borders: statemesh,\n",
    "  width: 975,\n",
    "  height: 610\n",
    "})\n",
    "    });\n",
    "})(element);\n",
    "\"\"\" % json.dumps(population))"
   ]
  },
  {
   "cell_type": "code",
   "execution_count": 21,
   "id": "2c6e60da",
   "metadata": {},
   "outputs": [
    {
     "data": {
      "application/javascript": [
       "(function(element) {\n",
       "    require(['d3'], function(d3) {   \n",
       "        var data = [1, 2, 4, 8, 16, 8, 4, 2, 1]\n",
       "\n",
       "        var svg = d3.select(element.get(0)).append('svg')\n",
       "            .attr('width', 400)\n",
       "            .attr('height', 200);\n",
       "        svg.selectAll('circle')\n",
       "            .data(data)\n",
       "            .enter()\n",
       "            .append('circle')\n",
       "            .attr(\"cx\", function(d, i) {return 40 * (i + 1);})\n",
       "            .attr(\"cy\", function(d, i) {return 100 + 30 * (i % 3 - 1);})\n",
       "            .style(\"fill\", \"#1570a4\")\n",
       "            .transition().duration(2000)\n",
       "            .attr(\"r\", function(d) {return 2*d;})\n",
       "        ;\n",
       "    })\n",
       "})(element);\n"
      ],
      "text/plain": [
       "<IPython.core.display.Javascript object>"
      ]
     },
     "metadata": {},
     "output_type": "display_data"
    }
   ],
   "source": [
    "%%javascript\n",
    "(function(element) {\n",
    "    require(['d3'], function(d3) {   \n",
    "        var data = [1, 2, 4, 8, 16, 8, 4, 2, 1]\n",
    "\n",
    "        var svg = d3.select(element.get(0)).append('svg')\n",
    "            .attr('width', 400)\n",
    "            .attr('height', 200);\n",
    "        svg.selectAll('circle')\n",
    "            .data(data)\n",
    "            .enter()\n",
    "            .append('circle')\n",
    "            .attr(\"cx\", function(d, i) {return 40 * (i + 1);})\n",
    "            .attr(\"cy\", function(d, i) {return 100 + 30 * (i % 3 - 1);})\n",
    "            .style(\"fill\", \"#1570a4\")\n",
    "            .transition().duration(2000)\n",
    "            .attr(\"r\", function(d) {return 2*d;})\n",
    "        ;\n",
    "    })\n",
    "})(element);"
   ]
  },
  {
   "cell_type": "code",
   "execution_count": null,
   "id": "5be7a21c",
   "metadata": {},
   "outputs": [],
   "source": []
  },
  {
   "cell_type": "code",
   "execution_count": null,
   "id": "3b7bc33b",
   "metadata": {},
   "outputs": [],
   "source": []
  }
 ],
 "metadata": {
  "kernelspec": {
   "display_name": "Python 3 (ipykernel)",
   "language": "python",
   "name": "python3"
  },
  "language_info": {
   "codemirror_mode": {
    "name": "ipython",
    "version": 3
   },
   "file_extension": ".py",
   "mimetype": "text/x-python",
   "name": "python",
   "nbconvert_exporter": "python",
   "pygments_lexer": "ipython3",
   "version": "3.9.1"
  }
 },
 "nbformat": 4,
 "nbformat_minor": 5
}
